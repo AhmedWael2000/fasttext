{
  "metadata": {
    "colab": {
      "provenance": [],
      "include_colab_link": true
    },
    "kernelspec": {
      "name": "python3",
      "display_name": "Python 3",
      "language": "python"
    },
    "language_info": {
      "name": "python",
      "version": "3.10.13",
      "mimetype": "text/x-python",
      "codemirror_mode": {
        "name": "ipython",
        "version": 3
      },
      "pygments_lexer": "ipython3",
      "nbconvert_exporter": "python",
      "file_extension": ".py"
    },
    "kaggle": {
      "accelerator": "none",
      "dataSources": [
        {
          "sourceId": 3316532,
          "sourceType": "datasetVersion",
          "datasetId": 10100
        }
      ],
      "dockerImageVersionId": 30702,
      "isInternetEnabled": true,
      "language": "python",
      "sourceType": "notebook",
      "isGpuEnabled": false
    }
  },
  "nbformat_minor": 0,
  "nbformat": 4,
  "cells": [
    {
      "cell_type": "markdown",
      "metadata": {
        "id": "view-in-github",
        "colab_type": "text"
      },
      "source": [
        "<a href=\"https://colab.research.google.com/github/AhmedWael2000/fasttext/blob/main/Fasttext_using_gensim_library.ipynb\" target=\"_parent\"><img src=\"https://colab.research.google.com/assets/colab-badge.svg\" alt=\"Open In Colab\"/></a>"
      ]
    },
    {
      "cell_type": "code",
      "source": [
        "%%capture\n",
        "!pip install reportlab fasttext"
      ],
      "metadata": {
        "id": "SJuU3YNfEaa4",
        "execution": {
          "iopub.status.busy": "2024-04-21T05:36:49.365208Z",
          "iopub.execute_input": "2024-04-21T05:36:49.365674Z",
          "iopub.status.idle": "2024-04-21T05:37:04.623142Z",
          "shell.execute_reply.started": "2024-04-21T05:36:49.365636Z",
          "shell.execute_reply": "2024-04-21T05:37:04.621509Z"
        },
        "trusted": true
      },
      "execution_count": null,
      "outputs": []
    },
    {
      "cell_type": "code",
      "source": [
        "! kaggle datasets download -d yelp-dataset/yelp-dataset\n",
        "! unzip yelp-dataset.zip"
      ],
      "metadata": {
        "colab": {
          "base_uri": "https://localhost:8080/"
        },
        "id": "ZbQHT543rWY2",
        "outputId": "b42d977a-e746-49b7-db8a-f0c1efa72eba",
        "execution": {
          "iopub.status.busy": "2024-04-21T04:45:10.595320Z",
          "iopub.execute_input": "2024-04-21T04:45:10.595727Z",
          "iopub.status.idle": "2024-04-21T04:45:13.010077Z",
          "shell.execute_reply.started": "2024-04-21T04:45:10.595683Z",
          "shell.execute_reply": "2024-04-21T04:45:13.008634Z"
        },
        "trusted": true
      },
      "execution_count": null,
      "outputs": [
        {
          "name": "stdout",
          "text": "Traceback (most recent call last):\n  File \"/opt/conda/bin/kaggle\", line 5, in <module>\n    from kaggle.cli import main\n  File \"/opt/conda/lib/python3.10/site-packages/kaggle/__init__.py\", line 23, in <module>\n    api.authenticate()\n  File \"/opt/conda/lib/python3.10/site-packages/kaggle/api/kaggle_api_extended.py\", line 403, in authenticate\n    raise IOError('Could not find {}. Make sure it\\'s located in'\nOSError: Could not find kaggle.json. Make sure it's located in /root/.kaggle. Or use the environment method.\nunzip:  cannot find or open yelp-dataset.zip, yelp-dataset.zip.zip or yelp-dataset.zip.ZIP.\n",
          "output_type": "stream"
        }
      ]
    },
    {
      "cell_type": "code",
      "source": [
        "%%capture\n",
        "!unzip /usr/share/nltk_data/corpora/wordnet.zip -d /usr/share/nltk_data/corpora/"
      ],
      "metadata": {
        "execution": {
          "iopub.status.busy": "2024-04-21T05:16:21.933969Z",
          "iopub.execute_input": "2024-04-21T05:16:21.934412Z",
          "iopub.status.idle": "2024-04-21T05:31:22.869377Z",
          "shell.execute_reply.started": "2024-04-21T05:16:21.934377Z",
          "shell.execute_reply": "2024-04-21T05:31:22.867121Z"
        },
        "trusted": true,
        "id": "4EwVrSNBbOGz"
      },
      "execution_count": null,
      "outputs": []
    },
    {
      "cell_type": "code",
      "source": [
        "import fasttext\n",
        "from huggingface_hub import hf_hub_download\n",
        "import pandas as pd\n",
        "import numpy as np\n",
        "import re\n",
        "from tqdm import tqdm\n",
        "from matplotlib import pyplot as plt\n",
        "from gensim.models import fasttext as fst\n",
        "import nltk\n",
        "nltk.download('stopwords')\n",
        "nltk.download('wordnet')\n",
        "\n",
        "from nltk.corpus import stopwords\n",
        "from nltk import WordNetLemmatizer\n",
        "\n",
        "from gensim.models.fasttext import FastText # build and train Fast Text model\n",
        "from gensim.models import Word2Vec # to Save and Load Word2Vec models\n",
        "from gensim.models.fasttext import load_facebook_model\n",
        "en_stop = set(stopwords.words('english'))\n",
        "lemmatizer = WordNetLemmatizer()\n",
        "\n",
        "import warnings\n",
        "warnings.filterwarnings(\"ignore\")\n"
      ],
      "metadata": {
        "colab": {
          "base_uri": "https://localhost:8080/"
        },
        "id": "GGIZhlfJshat",
        "outputId": "fa34f141-7a2e-4a3f-8402-36c3249c1bfe",
        "execution": {
          "iopub.status.busy": "2024-04-21T05:15:39.842174Z",
          "iopub.execute_input": "2024-04-21T05:15:39.842595Z",
          "iopub.status.idle": "2024-04-21T05:15:39.852046Z",
          "shell.execute_reply.started": "2024-04-21T05:15:39.842563Z",
          "shell.execute_reply": "2024-04-21T05:15:39.850892Z"
        },
        "trusted": true
      },
      "execution_count": null,
      "outputs": [
        {
          "name": "stdout",
          "text": "[nltk_data] Downloading package stopwords to /usr/share/nltk_data...\n[nltk_data]   Package stopwords is already up-to-date!\n[nltk_data] Downloading package wordnet to /usr/share/nltk_data...\n[nltk_data]   Package wordnet is already up-to-date!\n",
          "output_type": "stream"
        }
      ]
    },
    {
      "cell_type": "code",
      "source": [
        "data_path = '/kaggle/input/yelp-dataset/yelp_academic_dataset_tip.json'\n",
        "\n",
        "\n",
        "data = pd.read_json(\n",
        "    data_path,\n",
        "    lines = True\n",
        ")\n",
        "\n",
        "print(data.columns)\n",
        "data.shape"
      ],
      "metadata": {
        "colab": {
          "base_uri": "https://localhost:8080/"
        },
        "id": "p9z3J6hSsln6",
        "outputId": "afb859f2-9a4d-41aa-f40d-32c6a3c1951f",
        "execution": {
          "iopub.status.busy": "2024-04-21T05:07:48.751058Z",
          "iopub.execute_input": "2024-04-21T05:07:48.751481Z",
          "iopub.status.idle": "2024-04-21T05:07:58.360259Z",
          "shell.execute_reply.started": "2024-04-21T05:07:48.751449Z",
          "shell.execute_reply": "2024-04-21T05:07:58.359083Z"
        },
        "trusted": true
      },
      "execution_count": null,
      "outputs": [
        {
          "name": "stdout",
          "text": "Index(['user_id', 'business_id', 'text', 'date', 'compliment_count'], dtype='object')\n",
          "output_type": "stream"
        },
        {
          "execution_count": 27,
          "output_type": "execute_result",
          "data": {
            "text/plain": "(908915, 5)"
          },
          "metadata": {}
        }
      ]
    },
    {
      "cell_type": "code",
      "source": [
        "docs = data['text'][:200000].values\n",
        "\n",
        "print(\"\\nSamples of Sentences\\n [{}]\".format(docs[0:10]))"
      ],
      "metadata": {
        "colab": {
          "base_uri": "https://localhost:8080/"
        },
        "id": "nh5VmEmOtE7v",
        "outputId": "669b2800-426b-4def-8bc9-726530027f87",
        "execution": {
          "iopub.status.busy": "2024-04-21T06:06:26.780523Z",
          "iopub.execute_input": "2024-04-21T06:06:26.781495Z",
          "iopub.status.idle": "2024-04-21T06:06:26.788638Z",
          "shell.execute_reply.started": "2024-04-21T06:06:26.781452Z",
          "shell.execute_reply": "2024-04-21T06:06:26.787504Z"
        },
        "trusted": true
      },
      "execution_count": null,
      "outputs": [
        {
          "name": "stdout",
          "text": "\nSamples of Sentences\n [['Avengers time with the ladies.'\n 'They have lots of good deserts and tasty cuban sandwiches'\n \"It's open even when you think it isn't\" 'Very decent fried chicken'\n 'Appetizers.. platter special for lunch'\n 'Chili Cup + Single Cheeseburger with onion, pickle, and relish + Vanilla Coca-Cola...so far.'\n \"Saturday, Dec 7th 2013, ride Patco's Silver Sleigh w/ Santa & his elves on a decorated train into Center City. Trains leave from Lindenwold at 10am, 11:15am, & 12:30pm, and make all stops. Great for kids!\"\n 'This is probably the best place in the cool Springs area to watch a game and eat'\n 'Tacos'\n 'Starbucks substitute in boring downtown Tampa. Ugh. Never again!']]\n",
          "output_type": "stream"
        }
      ]
    },
    {
      "cell_type": "code",
      "source": [
        "# en_stop = set(stopwords.words('english'))\n",
        "def process_text(document):\n",
        "  document = re.sub(r'\\s+', ' ', document, flags=re.I) # Remove extra white space from text\n",
        "  document = re.sub(r'\\W', ' ', str(document)) # Remove all the special characters from text\n",
        "  document = re.sub(r'\\s+[A-z]\\s+', ' ', document) # Remove all single characters from text\n",
        "  document = document.lower() # Converting to Lowercase\n",
        "  # Word tokenization\n",
        "  tokens = document.split()\n",
        "  lemma_txt = [lemmatizer.lemmatize(word) for word in tokens if word not in en_stop]\n",
        "  # Drop words\n",
        "  tokens = [word for word in lemma_txt if len(word) > 3]\n",
        "  # clean_txt = ' '.join(lemma_txt)\n",
        "  return tokens"
      ],
      "metadata": {
        "id": "G7xHpLn8t-um",
        "execution": {
          "iopub.status.busy": "2024-04-21T05:13:17.335339Z",
          "iopub.execute_input": "2024-04-21T05:13:17.335731Z",
          "iopub.status.idle": "2024-04-21T05:13:17.343360Z",
          "shell.execute_reply.started": "2024-04-21T05:13:17.335703Z",
          "shell.execute_reply": "2024-04-21T05:13:17.341773Z"
        },
        "trusted": true
      },
      "execution_count": null,
      "outputs": []
    },
    {
      "cell_type": "code",
      "source": [
        "sub_docs = docs[70:73]\n",
        "\n",
        "for doc in sub_docs:\n",
        "  processesed_doc = process_text(doc)\n",
        "  print(f\"OG doc:\\t{doc},\\nProcessed doc:\\t{processesed_doc}\", end=\"\\n\\n\")"
      ],
      "metadata": {
        "colab": {
          "base_uri": "https://localhost:8080/"
        },
        "id": "pGAIC_yAvVUY",
        "outputId": "7d953cdb-afa2-4938-c334-e70f7f07fc16",
        "execution": {
          "iopub.status.busy": "2024-04-21T06:06:31.522528Z",
          "iopub.execute_input": "2024-04-21T06:06:31.523410Z",
          "iopub.status.idle": "2024-04-21T06:06:31.530168Z",
          "shell.execute_reply.started": "2024-04-21T06:06:31.523370Z",
          "shell.execute_reply": "2024-04-21T06:06:31.528853Z"
        },
        "trusted": true
      },
      "execution_count": null,
      "outputs": [
        {
          "name": "stdout",
          "text": "OG doc:\tLots of great 100 anniversary specials on now!,\nProcessed doc:\t['great', 'anniversary', 'special']\n\nOG doc:\tCollege crowd dive bar scene. Friendly folks & lots of Irish eye candy ;) hahaha,\nProcessed doc:\t['college', 'crowd', 'dive', 'scene', 'friendly', 'folk', 'irish', 'candy', 'hahaha']\n\nOG doc:\tFish and chips are very good.,\nProcessed doc:\t['fish', 'chip', 'good']\n\n",
          "output_type": "stream"
        }
      ]
    },
    {
      "cell_type": "code",
      "source": [
        "processesed_docs = list(\n",
        "    tqdm(\n",
        "        map(\n",
        "            process_text,\n",
        "            docs),\n",
        "        total=len(docs)))"
      ],
      "metadata": {
        "colab": {
          "base_uri": "https://localhost:8080/"
        },
        "id": "FmNJW9plyD9h",
        "outputId": "a4e23097-ed06-4880-af23-0c844e4a2542",
        "execution": {
          "iopub.status.busy": "2024-04-21T06:06:36.418516Z",
          "iopub.execute_input": "2024-04-21T06:06:36.418919Z",
          "iopub.status.idle": "2024-04-21T06:06:48.205896Z",
          "shell.execute_reply.started": "2024-04-21T06:06:36.418888Z",
          "shell.execute_reply": "2024-04-21T06:06:48.204778Z"
        },
        "trusted": true
      },
      "execution_count": null,
      "outputs": [
        {
          "name": "stderr",
          "text": "100%|██████████| 200000/200000 [00:11<00:00, 16986.14it/s]\n",
          "output_type": "stream"
        }
      ]
    },
    {
      "cell_type": "code",
      "source": [
        "plt.hist(\n",
        "    list(map(len, processesed_docs)),\n",
        "    bins = 50\n",
        "    )\n",
        "plt.title(\"Processed text lengthes distribution...\")\n",
        "plt.show()"
      ],
      "metadata": {
        "colab": {
          "base_uri": "https://localhost:8080/",
          "height": 452
        },
        "id": "bm9tZn7CyajY",
        "outputId": "6b50ea07-cd6f-4f52-a276-c423d898c2f7",
        "execution": {
          "iopub.status.busy": "2024-04-21T06:06:53.753172Z",
          "iopub.execute_input": "2024-04-21T06:06:53.753580Z",
          "iopub.status.idle": "2024-04-21T06:06:54.621891Z",
          "shell.execute_reply.started": "2024-04-21T06:06:53.753541Z",
          "shell.execute_reply": "2024-04-21T06:06:54.620724Z"
        },
        "trusted": true
      },
      "execution_count": null,
      "outputs": [
        {
          "output_type": "display_data",
          "data": {
            "text/plain": "<Figure size 640x480 with 1 Axes>",
            "image/png": "[encoded data removed]"
          },
          "metadata": {}
        }
      ]
    },
    {
      "cell_type": "code",
      "source": [
        "embedding_size = 300\n",
        "window_size = 5\n",
        "min_word = 5\n",
        "down_sampling = 1e-2"
      ],
      "metadata": {
        "id": "G3AcqgpGte3C",
        "execution": {
          "iopub.status.busy": "2024-04-21T06:06:57.806429Z",
          "iopub.execute_input": "2024-04-21T06:06:57.806857Z",
          "iopub.status.idle": "2024-04-21T06:06:57.812277Z",
          "shell.execute_reply.started": "2024-04-21T06:06:57.806820Z",
          "shell.execute_reply": "2024-04-21T06:06:57.810964Z"
        },
        "trusted": true
      },
      "execution_count": null,
      "outputs": []
    },
    {
      "cell_type": "code",
      "source": [
        "model = FastText(\n",
        "    vector_size=embedding_size,\n",
        "    window=window_size,\n",
        "    min_count=min_word,\n",
        "    workers = 4,\n",
        "    sg=1\n",
        "    )  # Adjust the parameters as needed\n",
        "\n",
        "model.build_vocab(\n",
        "    corpus_iterable=processesed_docs\n",
        ")\n",
        "for epoch in tqdm(range(100)):\n",
        "  model.train(\n",
        "      corpus_iterable=processesed_docs,\n",
        "      total_examples=len(processesed_docs),\n",
        "      epochs=1\n",
        "      )  # Train the model\n"
      ],
      "metadata": {
        "colab": {
          "base_uri": "https://localhost:8080/"
        },
        "id": "AViBJbgw0ZLK",
        "outputId": "d153d692-c5d7-4be6-c7e7-28ccee1f5d4b",
        "execution": {
          "iopub.status.busy": "2024-04-21T06:07:05.331237Z",
          "iopub.execute_input": "2024-04-21T06:07:05.331658Z",
          "iopub.status.idle": "2024-04-21T06:19:35.402407Z",
          "shell.execute_reply.started": "2024-04-21T06:07:05.331624Z",
          "shell.execute_reply": "2024-04-21T06:19:35.400515Z"
        },
        "trusted": true
      },
      "execution_count": null,
      "outputs": [
        {
          "name": "stderr",
          "text": "100%|██████████| 100/100 [12:22<00:00,  7.43s/it]\n",
          "output_type": "stream"
        }
      ]
    },
    {
      "cell_type": "code",
      "source": [
        "model.save('our_fast_text_model.bin') # Save fastText gensim model\n"
      ],
      "metadata": {
        "id": "JHxTl-GLBFU_",
        "execution": {
          "iopub.status.busy": "2024-04-21T06:33:19.857297Z",
          "iopub.execute_input": "2024-04-21T06:33:19.857788Z",
          "iopub.status.idle": "2024-04-21T06:33:24.137868Z",
          "shell.execute_reply.started": "2024-04-21T06:33:19.857756Z",
          "shell.execute_reply": "2024-04-21T06:33:24.136699Z"
        },
        "trusted": true
      },
      "execution_count": null,
      "outputs": []
    },
    {
      "cell_type": "code",
      "source": [
        "# Load saved gensim fastText model\n",
        "fast_Text_model = Word2Vec.load('/content/our_fast_text_model.bin')"
      ],
      "metadata": {
        "id": "3h64TcBa67jv"
      },
      "execution_count": null,
      "outputs": []
    },
    {
      "cell_type": "code",
      "source": [
        "\n",
        "list(fast_Text_model.wv.key_to_index.keys())[:10]"
      ],
      "metadata": {
        "colab": {
          "base_uri": "https://localhost:8080/"
        },
        "id": "ApDTubGQOhtT",
        "outputId": "09cfd52d-ad69-46a6-dcab-e784904682bd",
        "execution": {
          "iopub.status.busy": "2024-04-21T06:23:23.821005Z",
          "iopub.execute_input": "2024-04-21T06:23:23.821443Z",
          "iopub.status.idle": "2024-04-21T06:23:23.830222Z",
          "shell.execute_reply.started": "2024-04-21T06:23:23.821411Z",
          "shell.execute_reply": "2024-04-21T06:23:23.829061Z"
        },
        "trusted": true
      },
      "execution_count": null,
      "outputs": [
        {
          "execution_count": 81,
          "output_type": "execute_result",
          "data": {
            "text/plain": "['great',\n 'good',\n 'food',\n 'place',\n 'service',\n 'best',\n 'love',\n 'time',\n 'awesome',\n 'like']"
          },
          "metadata": {}
        }
      ]
    },
    {
      "cell_type": "code",
      "source": [
        "test_words = [\n",
        "    'felafel',\n",
        "    'good',\n",
        "    'car',\n",
        "    'newspaper',\n",
        "    'single',\n",
        "    'total',\n",
        "    'screen',\n",
        "    'watch'\n",
        "]"
      ],
      "metadata": {
        "id": "wSTy9MvuRIH_",
        "execution": {
          "iopub.status.busy": "2024-04-21T06:23:39.390724Z",
          "iopub.execute_input": "2024-04-21T06:23:39.391205Z",
          "iopub.status.idle": "2024-04-21T06:23:39.397003Z",
          "shell.execute_reply.started": "2024-04-21T06:23:39.391159Z",
          "shell.execute_reply": "2024-04-21T06:23:39.395609Z"
        },
        "trusted": true
      },
      "execution_count": null,
      "outputs": []
    },
    {
      "cell_type": "markdown",
      "source": [
        "# Get Similar and Opposite Words"
      ],
      "metadata": {
        "id": "ex69LeuQbOG8"
      }
    },
    {
      "cell_type": "code",
      "source": [
        "def similar_and_opposite(model,test_words):\n",
        "    similar_words = list()\n",
        "    opposite_words = list()\n",
        "    for word in test_words:\n",
        "      similar_words.append([x for x, _ in model.wv.most_similar(word, topn=10)])\n",
        "      opposite_words.append([x for x, _ in model.wv.most_similar(negative=[word], topn=10)])\n",
        "    return similar_words, opposite_words\n",
        ""
      ],
      "metadata": {
        "execution": {
          "iopub.status.busy": "2024-04-21T06:23:42.108435Z",
          "iopub.execute_input": "2024-04-21T06:23:42.109792Z",
          "iopub.status.idle": "2024-04-21T06:23:42.116365Z",
          "shell.execute_reply.started": "2024-04-21T06:23:42.109749Z",
          "shell.execute_reply": "2024-04-21T06:23:42.115071Z"
        },
        "trusted": true,
        "id": "oPR_a_McbOG-"
      },
      "execution_count": null,
      "outputs": []
    },
    {
      "cell_type": "code",
      "source": [],
      "metadata": {
        "id": "r7p5UK_9QGgf",
        "execution": {
          "iopub.status.busy": "2024-04-21T06:23:55.511943Z",
          "iopub.execute_input": "2024-04-21T06:23:55.512396Z",
          "iopub.status.idle": "2024-04-21T06:23:55.538479Z",
          "shell.execute_reply.started": "2024-04-21T06:23:55.512362Z",
          "shell.execute_reply": "2024-04-21T06:23:55.537239Z"
        },
        "trusted": true
      },
      "execution_count": null,
      "outputs": []
    },
    {
      "cell_type": "code",
      "source": [
        "similar_words, opposite_words = similar_and_opposite(model,test_words)"
      ],
      "metadata": {
        "id": "fxZGgN7raaSx",
        "execution": {
          "iopub.status.busy": "2024-04-21T06:39:48.655438Z",
          "iopub.execute_input": "2024-04-21T06:39:48.655943Z",
          "iopub.status.idle": "2024-04-21T06:39:48.677842Z",
          "shell.execute_reply.started": "2024-04-21T06:39:48.655907Z",
          "shell.execute_reply": "2024-04-21T06:39:48.676458Z"
        },
        "trusted": true
      },
      "execution_count": null,
      "outputs": []
    },
    {
      "cell_type": "code",
      "source": [
        "for word, sim_list, opp_list in zip(test_words, similar_words, opposite_words):\n",
        "  print(f\"for word {word}:\\n{'='*7}\\nMost similar wordes are: \\n{sim_list}\\n\\nMost opposite words are: \\n{opp_list}\",\n",
        "        end=f\"\\n\\n\\n{'#'*10} {'$'*5} {'#'*10}\\n\\n\")"
      ],
      "metadata": {
        "colab": {
          "base_uri": "https://localhost:8080/"
        },
        "id": "NNEm1t8Gam4e",
        "outputId": "5b601c62-ca38-47e5-f39e-2495e60285f2",
        "execution": {
          "iopub.status.busy": "2024-04-21T06:40:33.067855Z",
          "iopub.execute_input": "2024-04-21T06:40:33.068288Z",
          "iopub.status.idle": "2024-04-21T06:40:33.074857Z",
          "shell.execute_reply.started": "2024-04-21T06:40:33.068256Z",
          "shell.execute_reply": "2024-04-21T06:40:33.073586Z"
        },
        "trusted": true
      },
      "execution_count": null,
      "outputs": [
        {
          "name": "stdout",
          "text": "for word felafel:\n=======\nMost similar wordes are: \n['falafel', 'ghanoush', 'babaganoush', 'ganoush', 'pernil', 'baba', 'shwarma', 'tabbouleh', 'palermo', 'vegetable']\n\nMost opposite words are: \n['dunkin', 'player', 'allowed', 'cleaning', 'tactic', 'raising', 'booking', 'rarity', 'pull', 'wasting']\n\n\n########## $$$$$ ##########\n\nfor word good:\n=======\nMost similar wordes are: \n['great', 'amazing', 'tasty', 'delicious', 'excellent', 'goood', 'gooood', 'awesome', 'decent', 'goooood']\n\nMost opposite words are: \n['dentist', 'lane', 'block', 'performance', 'story', 'begin', 'various', 'dance', 'entire', 'extended']\n\n\n########## $$$$$ ##########\n\nfor word car:\n=======\nMost similar wordes are: \n['streetcar', 'sidecar', 'oscar', 'carson', 'mejor', 'omar', '5056', 'carnivaltime', 'frenchquarter', 'carl']\n\nMost opposite words are: \n['slightly', 'regularly', 'nightly', 'rather', 'upon', 'hopefully', 'samosa', 'gotten', 'temperature', 'boring']\n\n\n########## $$$$$ ##########\n\nfor word newspaper:\n=======\nMost similar wordes are: \n['newsletter', 'wallpaper', 'paper', 'news', 'loafing', 'groupons', 'mindbody', 'showtime', 'cldeals', 'sutp']\n\nMost opposite words are: \n['curd', 'bone', 'poboy', 'cardamom', 'pattie', 'aged', 'sophisticated', 'jill', 'blondie', 'mighty']\n\n\n########## $$$$$ ##########\n\nfor word single:\n=======\nMost similar wordes are: \n['every', 'angle', 'rofl', 'origin', 'burgerfi', 'wiggle', 'antoine', 'trend', 'goddamn', 'legal']\n\nMost opposite words are: \n['marie', 'delight', 'gelato', 'spring', 'text', 'warrant', 'courtyard', 'completed', 'chilling', 'mode']\n\n\n########## $$$$$ ##########\n\nfor word total:\n=======\nMost similar wordes are: \n['totally', 'monitor', 'cancel', 'scanning', 'satellite', 'sanitation', 'scam', 'purple', 'spotless', 'datz']\n\nMost opposite words are: \n['reed', 'belgian', 'rival', 'pier', 'dipping', 'broccoli', 'sling', 'farm', 'belle', 'flavorful']\n\n\n########## $$$$$ ##########\n\nfor word screen:\n=======\nMost similar wordes are: \n['screening', 'sunscreen', 'scroll', 'projection', 'game', 'projector', 'sport', 'battery', 'ipad', 'keurig']\n\nMost opposite words are: \n['cuban', 'chestnut', 'totally', 'equally', 'crust', 'absolutely', 'truly', 'earl', 'sorbet', 'ceramic']\n\n\n########## $$$$$ ##########\n\nfor word watch:\n=======\nMost similar wordes are: \n['watcher', 'game', 'watching', 'rugby', 'blocking', 'cartridge', 'fight', 'silk', 'foosball', 'buzztime']\n\nMost opposite words are: \n['flan', 'expanded', 'expand', 'macarons', 'gigi', 'sorbet', 'mediterranean', 'voice', 'grade', 'second']\n\n\n########## $$$$$ ##########\n\n",
          "output_type": "stream"
        }
      ]
    },
    {
      "cell_type": "code",
      "source": [
        "# Check word embedding for a perticular word\n",
        "test_word=\"felafel\"\n",
        "print(fast_Text_model.wv[test_word])"
      ],
      "metadata": {
        "id": "Ikig0oiECILJ",
        "execution": {
          "iopub.status.busy": "2024-04-21T06:41:07.180074Z",
          "iopub.execute_input": "2024-04-21T06:41:07.180477Z",
          "iopub.status.idle": "2024-04-21T06:41:07.189540Z",
          "shell.execute_reply.started": "2024-04-21T06:41:07.180443Z",
          "shell.execute_reply": "2024-04-21T06:41:07.188147Z"
        },
        "trusted": true,
        "outputId": "3983e5b4-25e0-4af0-f55d-5ea38e1cba9a"
      },
      "execution_count": null,
      "outputs": [
        {
          "name": "stdout",
          "text": "[-5.20541370e-01  9.90191028e-02  7.81551674e-02 -2.58916896e-02\n -4.09719467e-01 -2.78078198e-01 -1.61670938e-01 -2.83257812e-01\n  1.99897230e-01  1.55378789e-01  1.07840255e-01  2.40663648e-01\n -2.13077635e-01 -8.98825824e-02 -1.46702081e-01  9.23437327e-02\n -9.83811393e-02 -2.68683046e-01  1.39537558e-01  1.13004446e-01\n -6.53061390e-01  4.72824186e-01  3.45663652e-02 -3.27591121e-01\n -1.23066008e-01  4.45277244e-01  4.43608373e-01  4.54396941e-02\n -7.86847398e-02 -8.36455226e-01 -1.06406868e-01 -3.67655247e-01\n -1.06103502e-01  1.28222451e-01 -3.16613913e-01 -7.09916726e-02\n -4.53185923e-02 -1.56956896e-01 -2.76642561e-01  2.37877935e-01\n -2.91622877e-02 -1.71608180e-01  3.28522235e-01 -3.95288989e-02\n -1.66274652e-01 -8.53604451e-02 -1.25995018e-02  4.92078751e-01\n  7.23189056e-01  3.96779358e-01 -1.32987767e-01 -1.27943397e-01\n  1.91909567e-01  4.54687327e-01  2.47159019e-01  2.29802713e-01\n  4.38970685e-01  7.10925534e-02 -1.23896338e-01 -2.53202081e-01\n  3.00336722e-02 -1.95373152e-03  2.33125195e-01 -1.63186803e-01\n -2.16543078e-01  1.77788451e-01  1.76507890e-01  6.24138772e-01\n -1.84295192e-01  6.13780431e-02  1.15454663e-02 -3.42458338e-01\n  3.36099714e-02  1.78189337e-01 -3.16680163e-01 -6.81690034e-03\n  2.60938734e-01 -4.97441053e-01 -4.10233773e-02 -9.41966176e-02\n  2.45428830e-01 -9.37813595e-02 -7.98927471e-02  1.86566502e-01\n -1.96689025e-01 -1.24459766e-01 -2.97909200e-01  1.77952826e-01\n -4.59698111e-01 -1.78417355e-01  1.31441861e-01  5.85866332e-01\n -6.17372692e-01  7.87639096e-02 -4.09734309e-01  2.67032385e-01\n -1.86816588e-01  1.05102465e-01 -1.94848284e-01  1.86583996e-01\n -1.94003321e-02 -1.19577803e-01  3.26940119e-02 -2.13495746e-01\n -1.06570564e-01 -1.50453486e-02 -2.29365956e-02 -1.45222753e-01\n -9.19615254e-02 -1.32474139e-01 -2.07921311e-01  1.09932840e-01\n -9.95116457e-02 -5.26787005e-02 -4.32067871e-01 -1.84514299e-01\n -3.09368484e-02  3.57742198e-02 -7.51773566e-02  2.88791090e-01\n -4.15277809e-01  6.18109226e-01 -1.87397063e-01 -8.80030274e-01\n -9.62059721e-02 -8.59829724e-01 -5.82601070e-01 -1.43240690e-01\n -4.30075675e-01  9.34207663e-02  2.38112614e-01 -4.04720306e-01\n  3.64945620e-01 -6.27004600e-04 -4.25310552e-01  4.18340862e-01\n -2.10370272e-01 -2.47844607e-01 -2.96333075e-01 -4.13154602e-01\n  1.33736908e-01  4.15984601e-01  3.50434817e-02 -3.31563950e-01\n  9.98640880e-02  2.16194585e-01  1.54524550e-01 -1.55266777e-01\n -5.89381158e-01 -6.62343949e-02  3.43068391e-01 -1.57098904e-01\n -4.24236476e-01  2.81052124e-02 -2.14445695e-01  4.16783303e-01\n -3.03593129e-01 -4.14686829e-01  1.76903054e-01  1.94714129e-01\n -3.47354263e-01 -8.15873265e-01  1.05867244e-01  5.89612603e-01\n  4.36524414e-02 -4.09523427e-01  4.12774056e-01 -5.11611342e-01\n -1.60781786e-01 -8.15185439e-03 -7.75468573e-02 -1.39661685e-01\n  2.16337085e-01 -5.43717742e-01 -8.17618798e-03 -6.32725298e-01\n -8.85941274e-03 -1.31159559e-01 -2.72015482e-01  3.77398953e-02\n -9.86754149e-02  3.01093578e-01  3.52995157e-01  2.18625695e-01\n -1.48029149e-01 -6.71293307e-03  7.29925856e-02  1.51762336e-01\n -4.46958244e-01 -3.25463861e-01  1.63205817e-01  5.21206021e-01\n  4.37735111e-01 -1.35895237e-01  5.56616001e-02  2.52284914e-01\n  1.90649673e-01  1.10274188e-01 -2.72476971e-01 -1.98383480e-02\n  3.06493163e-01  4.60905628e-03 -7.68699050e-02 -6.30387425e-01\n -1.37283579e-01  1.96759552e-01 -1.24831356e-01 -8.78684819e-02\n  3.20522100e-01  6.11734428e-02  4.90230471e-01 -3.10849011e-01\n  1.99137256e-02  8.45659077e-02  1.01312794e-01 -1.35891825e-01\n -3.55000347e-02  6.02822043e-02  4.83400710e-02  2.69720614e-01\n -5.42160094e-01 -3.61447155e-01 -1.75240517e-01 -2.99715340e-01\n -1.06215350e-01 -1.25742808e-01 -1.05258815e-01  3.00346762e-02\n  3.21837157e-01 -6.26757979e-01 -1.28958538e-01 -1.32576630e-01\n -5.75827528e-03  3.42893392e-01  1.01282969e-01  6.93656551e-03\n  7.48587668e-01  4.86209154e-01 -1.91657040e-02 -1.98909223e-01\n -1.08930476e-01 -4.85369712e-01 -4.97180261e-02 -2.78342485e-01\n  1.56785682e-01  5.21955527e-02 -8.57193545e-02 -1.83136404e-01\n  5.27684033e-01  2.14062817e-02 -1.69331387e-01  4.28919166e-01\n -2.42290497e-01 -5.48857152e-01  3.53169948e-01  3.86713058e-01\n  4.47400272e-01 -1.88857093e-01 -5.90253100e-02 -5.78716457e-01\n  2.55060792e-01 -3.81920427e-01 -1.02036528e-01 -7.26429895e-02\n -4.53890473e-01 -2.79221460e-02  1.97984412e-01  3.09132665e-01\n -4.02501673e-02 -2.56860614e-01 -2.82566160e-01  1.96311586e-02\n -4.67650950e-01  2.07202435e-02  2.02663094e-01 -5.52663952e-02\n  3.28481168e-01  5.25147796e-01  8.39076638e-02  1.59407049e-01\n -3.40856314e-01 -5.15449405e-01  4.16006753e-03  1.05967253e-01\n  4.65359658e-01  1.81519344e-01 -7.06980228e-02  1.75762177e-01\n  9.45866182e-02  7.46731311e-02  2.33544230e-01 -3.55111897e-01\n  2.20738262e-01 -1.22353368e-01  7.63578191e-02 -2.42921069e-01\n -1.33555576e-01 -2.75745273e-01 -4.01839763e-01 -6.17418699e-02]\n",
          "output_type": "stream"
        }
      ]
    },
    {
      "cell_type": "code",
      "source": [
        "# Check top 10 similar word for a given word by gensim fastText\n",
        "print(*fast_Text_model.wv.most_similar(test_word, topn=10), sep='\\n')\n"
      ],
      "metadata": {
        "id": "Or0y3WI72m8F",
        "execution": {
          "iopub.status.busy": "2024-04-21T06:41:48.080556Z",
          "iopub.execute_input": "2024-04-21T06:41:48.081014Z",
          "iopub.status.idle": "2024-04-21T06:41:48.089957Z",
          "shell.execute_reply.started": "2024-04-21T06:41:48.080962Z",
          "shell.execute_reply": "2024-04-21T06:41:48.088472Z"
        },
        "trusted": true,
        "outputId": "bde3438c-d6bb-418e-c132-8ce7cc48710d"
      },
      "execution_count": null,
      "outputs": [
        {
          "name": "stdout",
          "text": "('falafel', 0.7094463109970093)\n('ghanoush', 0.42663753032684326)\n('babaganoush', 0.4087250530719757)\n('ganoush', 0.39360058307647705)\n('pernil', 0.3890381455421448)\n('baba', 0.38619598746299744)\n('shwarma', 0.3757225573062897)\n('tabbouleh', 0.37245631217956543)\n('palermo', 0.3709441125392914)\n('vegetable', 0.3701871931552887)\n",
          "output_type": "stream"
        }
      ]
    },
    {
      "cell_type": "code",
      "source": [
        "\n",
        "\n",
        "model_path = hf_hub_download(repo_id=\"facebook/fasttext-en-vectors\", filename=\"model.bin\")\n",
        "model = fst.load_facebook_model(model_path)\n",
        "# model = fasttext.load_model(model_path)"
      ],
      "metadata": {
        "id": "5ab5e9G-Tvgt",
        "execution": {
          "iopub.status.busy": "2024-04-21T04:49:11.619264Z",
          "iopub.execute_input": "2024-04-21T04:49:11.619687Z",
          "iopub.status.idle": "2024-04-21T04:52:47.618603Z",
          "shell.execute_reply.started": "2024-04-21T04:49:11.619655Z",
          "shell.execute_reply": "2024-04-21T04:52:47.617248Z"
        },
        "trusted": true,
        "colab": {
          "referenced_widgets": [
            "c645f0a8af4c4fa983a3936fd610c1d8"
          ]
        },
        "outputId": "bd2322f2-5b3d-4d6f-a13c-ec6d4c9ddfea"
      },
      "execution_count": null,
      "outputs": [
        {
          "output_type": "display_data",
          "data": {
            "text/plain": "model.bin:   0%|          | 0.00/7.24G [00:00<?, ?B/s]",
            "application/vnd.jupyter.widget-view+json": {
              "version_major": 2,
              "version_minor": 0,
              "model_id": "c645f0a8af4c4fa983a3936fd610c1d8"
            }
          },
          "metadata": {}
        }
      ]
    },
    {
      "cell_type": "code",
      "source": [
        "model.wv.most_similar(positive=[\"good\"], topn=10)"
      ],
      "metadata": {
        "id": "lDs5H_l-CoLJ",
        "execution": {
          "iopub.status.busy": "2024-04-21T04:57:37.955833Z",
          "iopub.execute_input": "2024-04-21T04:57:37.956870Z",
          "iopub.status.idle": "2024-04-21T04:57:38.090649Z",
          "shell.execute_reply.started": "2024-04-21T04:57:37.956829Z",
          "shell.execute_reply": "2024-04-21T04:57:38.089369Z"
        },
        "trusted": true,
        "outputId": "9e5b6ae4-7b41-49a2-adac-bdea11f28f9f"
      },
      "execution_count": null,
      "outputs": [
        {
          "execution_count": 15,
          "output_type": "execute_result",
          "data": {
            "text/plain": "[('bad', 0.7517590522766113),\n ('great', 0.7426096796989441),\n ('decent', 0.7299688458442688),\n ('nice', 0.7123615741729736),\n ('Good', 0.6796905994415283),\n ('excellent', 0.673703134059906),\n ('goood', 0.6695919036865234),\n ('ggod', 0.6602178812026978),\n ('semi-good', 0.6479218006134033),\n ('good.Good', 0.6417750120162964)]"
          },
          "metadata": {}
        }
      ]
    },
    {
      "cell_type": "code",
      "source": [
        "pre_similar_words,pre_opposite_words = similar_and_opposite(model,test_words)"
      ],
      "metadata": {
        "execution": {
          "iopub.status.busy": "2024-04-21T06:01:07.309327Z",
          "iopub.execute_input": "2024-04-21T06:01:07.310178Z",
          "iopub.status.idle": "2024-04-21T06:01:09.690361Z",
          "shell.execute_reply.started": "2024-04-21T06:01:07.310141Z",
          "shell.execute_reply": "2024-04-21T06:01:09.689105Z"
        },
        "trusted": true,
        "id": "yQgwnQ22bOHB"
      },
      "execution_count": null,
      "outputs": []
    },
    {
      "cell_type": "code",
      "source": [
        "for word, sim_list, opp_list in zip(test_words, pre_similar_words, pre_opposite_words):\n",
        "    text=f\"for word {word}:\\n{'='*7}\\nMost similar wordes are: \\n{sim_list}\\n\\nMost opposite words are: \\n{opp_list}\\n\\n\\n{'#'*10} {'$'*5} {'#'*10}\\n\\n\"\n",
        "    print(text)\n",
        ""
      ],
      "metadata": {
        "id": "_eT642XAyssS",
        "execution": {
          "iopub.status.busy": "2024-04-21T06:03:40.418659Z",
          "iopub.execute_input": "2024-04-21T06:03:40.419144Z",
          "iopub.status.idle": "2024-04-21T06:03:40.426292Z",
          "shell.execute_reply.started": "2024-04-21T06:03:40.419109Z",
          "shell.execute_reply": "2024-04-21T06:03:40.425045Z"
        },
        "trusted": true,
        "outputId": "c38a3553-fac1-4db1-906f-a527185e9ccb"
      },
      "execution_count": null,
      "outputs": [
        {
          "name": "stdout",
          "text": "for word felafel:\n=======\nMost similar wordes are: \n['falafel', 'falafels', 'falafal', 'schwarma', 'shwarma', 'hummous', 'hummos', 'shawarmas', 'laffa', 'shawarma']\n\nMost opposite words are: \n['CCC', 'SCDOT', 'Boone', 'GALAX', '2015-19', 'PRA', '2015-17', 'Fanjoy', 'USFS', 'WARN']\n\n\n########## $$$$$ ##########\n\n\nfor word good:\n=======\nMost similar wordes are: \n['bad', 'great', 'decent', 'nice', 'Good', 'excellent', 'goood', 'ggod', 'semi-good', 'good.Good']\n\nMost opposite words are: \n['21105', 'KACI', '15041', 'FDIA', 'Denen', 'выставка', '21103', '21411', 'MacCall', 'NIAMEY']\n\n\n########## $$$$$ ##########\n\n\nfor word car:\n=======\nMost similar wordes are: \n['cars', 'vehicle', 'automobile', 'car--and', 'car.But', 'car.It', 'car.So', 'car.Now', 'car.', 'car.When']\n\nMost opposite words are: \n['Cryptic', 'Grogs', 'Boyen', 'Achowat', 'Roberticus', 'Atama', '2017SEC', 'Sensitives', 'IBID', 'SudoGhost']\n\n\n########## $$$$$ ##########\n\n\nfor word newspaper:\n=======\nMost similar wordes are: \n['newpaper', 'newspapers', 'news-paper', 'newspaper.The', 'Newspaper', 'newspaper-', 'newspaper.I', 'newspaper.It', 'newspaper.', 'newspape']\n\nMost opposite words are: \n['201550', 'FV2', 'Work3', 'RE0', 'Indefinable', 'JewelryAll', '2017Merry', '10831', 'Ph1', 'elements.15Totem']\n\n\n########## $$$$$ ##########\n\n\nfor word single:\n=======\nMost similar wordes are: \n['sinlge', 'Single', 'signle', 'sigle', 'SINGLE', 'every', 'singel', 'sinle', 'single.', 'singl']\n\nMost opposite words are: \n['InstituteCampus', '--Races', 'FAQsCustomer', 'ReplyDeleteJake', '--ID', 'NewsSony', 'History20', '20Information', '5Sun', 'CategoriesOffice']\n\n\n########## $$$$$ ##########\n\n\nfor word total:\n=======\nMost similar wordes are: \n['Total', 'toal', 'TOTAL', 'atotal', 'whopping', 'total.The', 'maximum', 'cumulative', 'equaling', '-total']\n\nMost opposite words are: \n['EventsVisit', 'AdviceFind', 'again.Tell', 'MissionaryStudents', 'moreWriting', 'TXCompanies', 'ResourcesSupport', 'us.Visit', 'OHCompanies', 'COCompanies']\n\n\n########## $$$$$ ##########\n\n\nfor word screen:\n=======\nMost similar wordes are: \n['screens', 'screeen', 'screen.The', 'screen.So', 'sreen', 'screen.But', 'screen.It', 'screen.And', 'scren', 'sceen']\n\nMost opposite words are: \n['lawyersAbout', 'Nickol', 'Inekon', 'SMILES1', '2017J', 'AnnaAnna', 'CommunityGregg', 'Girl10', 'Hedonistic', '2017Strong']\n\n\n########## $$$$$ ##########\n\n\nfor word watch:\n=======\nMost similar wordes are: \n['watching', 'watched', 'wathc', 'watch.This', 'watch.I', 'watch.', 'Watch', 'watche', 'watch.If', 'watches']\n\nMost opposite words are: \n['EALR', 'R-27', 'Hemans', 'CVRP', '.Domain', 'Arizpe', 'OwnerArbitrase', 'Particleboard', 'JIST', 'Szlachta']\n\n\n########## $$$$$ ##########\n\n\n",
          "output_type": "stream"
        }
      ]
    },
    {
      "cell_type": "markdown",
      "source": [
        "# Export a PDF"
      ],
      "metadata": {
        "id": "0Ob7MhY9bOHC"
      }
    },
    {
      "cell_type": "code",
      "source": [
        "from reportlab.lib.pagesizes import letter\n",
        "from reportlab.pdfgen import canvas\n",
        "\n",
        "# Function to generate PDF\n",
        "def generate_pdf(file_name, content):\n",
        "    c = canvas.Canvas(file_name, pagesize=letter)\n",
        "    text_object = c.beginText(30, 720)\n",
        "    text_object.setFont(\"Helvetica\", 12)\n",
        "    text_object.textLines(content)\n",
        "    c.drawText(text_object)\n",
        "    c.save()"
      ],
      "metadata": {
        "execution": {
          "iopub.status.busy": "2024-04-21T05:37:33.409559Z",
          "iopub.execute_input": "2024-04-21T05:37:33.409959Z",
          "iopub.status.idle": "2024-04-21T05:37:33.500907Z",
          "shell.execute_reply.started": "2024-04-21T05:37:33.409926Z",
          "shell.execute_reply": "2024-04-21T05:37:33.499776Z"
        },
        "trusted": true,
        "id": "B6A-ZiCzbOHD"
      },
      "execution_count": null,
      "outputs": []
    },
    {
      "cell_type": "code",
      "source": [
        "# pdf_content\n",
        "generate_pdf(\"Pretrained.pdf\", pdf_content)"
      ],
      "metadata": {
        "execution": {
          "iopub.status.busy": "2024-04-21T05:37:36.679477Z",
          "iopub.execute_input": "2024-04-21T05:37:36.679899Z",
          "iopub.status.idle": "2024-04-21T05:37:36.693439Z",
          "shell.execute_reply.started": "2024-04-21T05:37:36.679866Z",
          "shell.execute_reply": "2024-04-21T05:37:36.692040Z"
        },
        "trusted": true,
        "id": "JOkag6LGbOHD"
      },
      "execution_count": null,
      "outputs": []
    }
  ]
}